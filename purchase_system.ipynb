{
  "nbformat": 4,
  "nbformat_minor": 0,
  "metadata": {
    "colab": {
      "name": "purchase_system.ipynb",
      "provenance": [],
      "collapsed_sections": []
    },
    "kernelspec": {
      "name": "python3",
      "display_name": "Python 3"
    },
    "language_info": {
      "name": "python"
    }
  },
  "cells": [
    {
      "cell_type": "markdown",
      "metadata": {
        "id": "DXzFn97VQt2q"
      },
      "source": [
        "#Importing packages\n"
      ]
    },
    {
      "cell_type": "code",
      "metadata": {
        "id": "s1GoK_Tl2fSP"
      },
      "source": [
        "import json\n",
        "import time"
      ],
      "execution_count": 1,
      "outputs": []
    },
    {
      "cell_type": "markdown",
      "metadata": {
        "id": "PsNSKq6-Q0e-"
      },
      "source": [
        "#Opening the json files.\n",
        "Inventory and Sales files open."
      ]
    },
    {
      "cell_type": "code",
      "metadata": {
        "id": "UWTSOp0l2srb"
      },
      "source": [
        "fd = open(\"Inventory.json\",'r')\n",
        "\n",
        "inventory_item = fd.read()\n",
        "\n",
        "fd.close()\n",
        "\n",
        "record = json.loads(inventory_item)"
      ],
      "execution_count": 2,
      "outputs": []
    },
    {
      "cell_type": "code",
      "metadata": {
        "id": "NVS0oghZ5qws"
      },
      "source": [
        "fd = open(\"Sales.json\",'r')\n",
        "\n",
        "sales_rec = fd.read()\n",
        "\n",
        "fd.close()\n",
        "\n",
        "sales = json.loads(sales_rec)"
      ],
      "execution_count": 3,
      "outputs": []
    },
    {
      "cell_type": "markdown",
      "metadata": {
        "id": "BEEXz01lRCcs"
      },
      "source": [
        "#Product ID Finder program\n",
        "if user don't know the product id, then user will find out that using this program"
      ]
    },
    {
      "cell_type": "code",
      "metadata": {
        "colab": {
          "base_uri": "https://localhost:8080/"
        },
        "id": "Owfu9XPTNt0q",
        "outputId": "524115d3-12f8-4991-c38d-3bf7611c74f8"
      },
      "source": [
        "print('Product ID Finder')\n",
        "\n",
        "prod_type_lst=[]\n",
        "\n",
        "for i in record:\n",
        "  prod_id = i\n",
        "  prod_type_lst.append(record[prod_id]['Type'])\n",
        "prod_type_lst = set(prod_type_lst)\n",
        "prod_type_lst = list(prod_type_lst)\n",
        "print('\\nChoose the type of product that you want to find the product id : ')\n",
        "for i in range(len(prod_type_lst)):\n",
        "  print(i+1, ':', prod_type_lst[i])\n",
        "\n",
        "us_type = int(input(\"Enter the appropiate code of product type :- \"))\n",
        "prod_type=prod_type_lst[us_type-1]\n",
        "\n",
        "\n",
        "prod_name_lst=[]\n",
        "\n",
        "for i in record:\n",
        "  prod_id = i\n",
        "  if record[prod_id]['Type']==prod_type:\n",
        "    prod_name_lst.append(record[prod_id]['Name'])\n",
        "prod_name_lst = set(prod_name_lst)\n",
        "prod_name_lst = list(prod_name_lst)\n",
        "\n",
        "print('\\nChoose the product name that you want to find the product id : ')\n",
        "for i in range(len(prod_name_lst)):\n",
        "  print(i+1, ':', prod_name_lst[i])\n",
        "\n",
        "us_name = int(input(\"Enter the appropiate code of product name :- \"))\n",
        "prod_nm=prod_name_lst[us_name-1]\n",
        "\n",
        "\n",
        "\n",
        "prod_size_lst=[]\n",
        "\n",
        "for i in record:\n",
        "  prod_id = i\n",
        "  if record[prod_id]['Name']==prod_nm:\n",
        "    prod_size_lst.append(record[prod_id]['Size'])\n",
        "prod_size_lst = set(prod_size_lst)\n",
        "prod_size_lst = list(prod_size_lst)\n",
        "\n",
        "print('\\nChoose the product size that you want to find the product id : ')\n",
        "for i in range(len(prod_size_lst)):\n",
        "  print(i+1, ':', prod_size_lst[i])\n",
        "\n",
        "us_size = int(input(\"Enter the appropiate code of product size :- \"))\n",
        "prod_size=prod_size_lst[us_size-1]\n",
        "\n",
        "for i in record:\n",
        "  prod_id = i\n",
        "  if record[prod_id]['Name'] == prod_nm and record[prod_id]['Size']==prod_size:\n",
        "    print('\\n\\nThe product name is ',prod_nm)\n",
        "    print('The product size is ',prod_size)\n",
        "    print('The Product id you want is ',prod_id)\n",
        "\n"
      ],
      "execution_count": 4,
      "outputs": [
        {
          "output_type": "stream",
          "name": "stdout",
          "text": [
            "Product ID Finder\n",
            "\n",
            "Choose the type of product that you want to find the product id : \n",
            "1 : Snacks\n",
            "2 : Cold Drink\n",
            "3 : Noodles\n",
            "4 : Chocolate\n",
            "Enter the appropiate code of product type :- 4\n",
            "\n",
            "Choose the product name that you want to find the product id : \n",
            "1 : Munch\n",
            "2 : Cadbury Gems\n",
            "3 : Happydent\n",
            "4 : Dairy Milk\n",
            "5 : Kit-Kat\n",
            "6 : 5 Star\n",
            "Enter the appropiate code of product name :- 2\n",
            "\n",
            "Choose the product size that you want to find the product id : \n",
            "1 : Big\n",
            "2 : Small\n",
            "Enter the appropiate code of product size :- 1\n",
            "\n",
            "\n",
            "The product name is  Cadbury Gems\n",
            "The product size is  Big\n",
            "The Product id you want is  1040\n"
          ]
        }
      ]
    },
    {
      "cell_type": "markdown",
      "metadata": {
        "id": "w8EnSMWRR6nN"
      },
      "source": [
        "#Purchase system\n",
        "user purchase the item and system will update the inventory accordingly "
      ]
    },
    {
      "cell_type": "code",
      "metadata": {
        "id": "mRUBY8PE24yi",
        "colab": {
          "base_uri": "https://localhost:8080/"
        },
        "outputId": "650fe37c-03fc-4b58-d930-9ffd49f690be"
      },
      "source": [
        "user_name = input(\"Enter Your Name :- \")\n",
        "prod_id = input(\"Enter the product id of you want to buy:- \")\n",
        "quan = int(input(\"Quantity of product :- \"))\n",
        "\n",
        "for i in record:\n",
        "  if i == prod_id:\n",
        "    \n",
        "    prod_name = record[i]['Name']\n",
        "    prod_price = record[i]['Price']\n",
        "    prod_size =record[i]['Size']\n",
        "    \n",
        "    if (record[i]['Quantity'] < quan):\n",
        "      print('\\nWe do not have that much of quantity of ',prod_name )\n",
        "      print('We currently have this much of quantity : ',record[i]['Quantity'])\n",
        "      resp = int(input('1: Yes \\n2: No \\nWould you like to buy the available quantity: '))\n",
        "      if (resp == 1):\n",
        "        quan = record[i]['Quantity']\n",
        "        bill_amt = int(quan) * int(record[i]['Price'])\n",
        "        record[i]['Quantity'] -= quan\n",
        "      else:\n",
        "        print('\\nThank you for coming ',user_name)\n",
        "        print('Hope you come back again soon !!')\n",
        "        break\n",
        "    \n",
        "    else:\n",
        "      bill_amt = int(quan) * int(record[i]['Price'])\n",
        "\n",
        "      record[i]['Quantity'] -= quan\n",
        "\n",
        "      print('\\n************************************************')\n",
        "\n",
        "      print(\"Product Name :- \" , prod_name)\n",
        "      print(\"Product Price :- \" , prod_price)\n",
        "      print(\"Product Size :- \" , prod_size)\n",
        "      print(\"Quantity of the product you order :- \" , quan)\n",
        "\n",
        "      print('\\n--------------------------------------------------')\n",
        "      print('Total Billing Amount :- ',bill_amt )\n",
        "      print('\\n************************************************') \n",
        "      print('Thank you for shopping at our store ',user_name)\n",
        "\n",
        "      trans_pay = 0\n",
        "      trans_time = time.ctime()\n",
        "      while trans_pay == 0:\n",
        "        print(\"\\nPlease mentioned the payment option for above transaction \")\n",
        "        print('1: Cash\\n2: Card\\n3: UPI\\n')\n",
        "        trans_pay=int(input(\"Please press appropiate option of payment :- \"))\n",
        "        if (trans_pay == 1):\n",
        "          pay_method = 'Cash'\n",
        "          print('\\nyou choose Cash as payment method')\n",
        "          \n",
        "\n",
        "        elif (trans_pay == 2):\n",
        "          pay_method ='Card'\n",
        "          print('\\nyou choose Card as payment method')\n",
        "          \n",
        "\n",
        "        elif (trans_pay == 3):\n",
        "          pay_method ='UPI'\n",
        "          print('\\nyou choose UPI as payment method')\n",
        "\n",
        "        else :\n",
        "          print('\\nTry again and choose the correct method')\n",
        "          trans_pay= 0    \n",
        "      print(\"Time of transaction :- \",trans_time)"
      ],
      "execution_count": 5,
      "outputs": [
        {
          "output_type": "stream",
          "name": "stdout",
          "text": [
            "Enter Your Name :- Joel Martin\n",
            "Enter the product id of you want to buy:- 1040\n",
            "Quantity of product :- 5\n",
            "\n",
            "************************************************\n",
            "Product Name :-  Cadbury Gems\n",
            "Product Price :-  20\n",
            "Product Size :-  Big\n",
            "Quantity of the product you order :-  5\n",
            "\n",
            "--------------------------------------------------\n",
            "Total Billing Amount :-  100\n",
            "\n",
            "************************************************\n",
            "Thank you for shopping at our store  Joel Martin\n",
            "\n",
            "Please mentioned the payment option for above transaction \n",
            "1: Cash\n",
            "2: Card\n",
            "3: UPI\n",
            "\n",
            "Please press appropiate option of payment :- 3\n",
            "\n",
            "you choose UPI as payment method\n",
            "Time of transaction :-  Sun Sep  5 08:16:59 2021\n"
          ]
        }
      ]
    },
    {
      "cell_type": "markdown",
      "metadata": {
        "id": "pxQVzUcDSXxf"
      },
      "source": [
        "#Updating Sales record with new transacation's record"
      ]
    },
    {
      "cell_type": "code",
      "metadata": {
        "id": "M42GLwdCtPB_"
      },
      "source": [
        "for i in sales:\n",
        "  last_trans_id = i\n",
        "trans_id = (int(last_trans_id)+1)\n",
        "sales[trans_id] = {'User Name': user_name,'Product Name': prod_name,'Quantity': quan,\n",
        "                   'Billing Amount':bill_amt,'Payment Method':pay_method,'Time':trans_time}"
      ],
      "execution_count": 6,
      "outputs": []
    },
    {
      "cell_type": "markdown",
      "metadata": {
        "id": "wucMFUa2StE4"
      },
      "source": [
        "#Updation in the json file \n",
        "rewriting the inventory and sales json file to keep the system up-to-date."
      ]
    },
    {
      "cell_type": "code",
      "metadata": {
        "id": "XIqpPpDI26Ym"
      },
      "source": [
        "sales_rec = json.dumps(sales)\n",
        "\n",
        "fd = open (\"Sales.json\",'w')\n",
        "\n",
        "fd.write(sales_rec)\n",
        "\n",
        "fd.close()"
      ],
      "execution_count": 7,
      "outputs": []
    },
    {
      "cell_type": "code",
      "metadata": {
        "id": "1Q0yGFVt6Hoc"
      },
      "source": [
        "inventory_item = json.dumps(record)\n",
        "\n",
        "fd = open(\"Inventory.json\",\"w\")\n",
        "\n",
        "fd.write(inventory_item)\n",
        "\n",
        "fd.close()\n"
      ],
      "execution_count": 8,
      "outputs": []
    },
    {
      "cell_type": "code",
      "metadata": {
        "id": "1aZftmnMUnuY"
      },
      "source": [
        ""
      ],
      "execution_count": 8,
      "outputs": []
    }
  ]
}