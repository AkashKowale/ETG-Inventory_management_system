{
  "nbformat": 4,
  "nbformat_minor": 0,
  "metadata": {
    "colab": {
      "name": "Inventory_addition.ipynb",
      "provenance": [],
      "collapsed_sections": []
    },
    "kernelspec": {
      "name": "python3",
      "display_name": "Python 3"
    },
    "language_info": {
      "name": "python"
    }
  },
  "cells": [
    {
      "cell_type": "markdown",
      "metadata": {
        "id": "I2_UE8EhVJjn"
      },
      "source": [
        "#Importing Package"
      ]
    },
    {
      "cell_type": "code",
      "metadata": {
        "id": "Dtv2MQU6KFtR"
      },
      "source": [
        "import json"
      ],
      "execution_count": null,
      "outputs": []
    },
    {
      "cell_type": "markdown",
      "metadata": {
        "id": "dFWtFbFQVUUu"
      },
      "source": [
        "# Opening the Inventory json file"
      ]
    },
    {
      "cell_type": "code",
      "metadata": {
        "id": "RijTyQm9KVcB"
      },
      "source": [
        "fr = open('Inventory.json','r')\n",
        "\n",
        "Inventory = fr.read()\n",
        "\n",
        "fr.close()\n",
        "\n",
        "record = json.loads(Inventory)\n",
        "\n"
      ],
      "execution_count": null,
      "outputs": []
    },
    {
      "cell_type": "markdown",
      "metadata": {
        "id": "O9nshAMXVocf"
      },
      "source": [
        "#Adding New product in the inventory record Or Updating the quantity of previous stored item.\n",
        "\n"
      ]
    },
    {
      "cell_type": "code",
      "metadata": {
        "colab": {
          "base_uri": "https://localhost:8080/"
        },
        "id": "P3LErOX5Xp02",
        "outputId": "07226ecb-623d-41b5-c1f0-0f3d4b10fdea"
      },
      "source": [
        "n=0\n",
        "\n",
        "while n == 0:\n",
        "  print('1: Adding new item in inventory \\n2: Updating the quantity of product ')\n",
        "  n = int(input('\\nChoose from Above :- '))\n",
        "  print('\\n')\n",
        "\n",
        "  if n == 1:\n",
        "    for i in record:\n",
        "      last_prod = i\n",
        "\n",
        "    prod_id = str(int(last_prod)+1)\n",
        "    name = input(\"Enter The New Product Name :- \")\n",
        "    quan = int(input(\"Enter The New Product Quantity :- \"))\n",
        "    price = int(input(\"Enter The New Product Price per piece :- \"))\n",
        "    Size = input(\"Enter The New Product Size :- \")\n",
        "    Type = input(\"Enter The New Product Type :- \")\n",
        "\n",
        "    record[prod_id] = {'Name': name, 'Quantity': quan, 'Price': price , 'Size': Size, 'Type': Type}\n",
        "    \n",
        "\n",
        "  elif n == 2:\n",
        "    prod_type_lst=[]\n",
        "    for i in record:\n",
        "      prod_id = i\n",
        "      prod_type_lst.append(record[prod_id]['Type'])\n",
        "    prod_type_lst = set(prod_type_lst)\n",
        "    prod_type_lst = list(prod_type_lst)\n",
        "    print('\\nChoose the type of product that you want to update the quantity : ')\n",
        "    for i in range(len(prod_type_lst)):\n",
        "      print(i+1, ':', prod_type_lst[i])\n",
        "\n",
        "    us_type = int(input(\"Enter the appropiate code of product type :- \"))\n",
        "    prod_type=prod_type_lst[us_type-1]\n",
        "\n",
        "\n",
        "    prod_name_lst=[]\n",
        "\n",
        "    for i in record:\n",
        "      prod_id = i\n",
        "      if record[prod_id]['Type']==prod_type:\n",
        "        prod_name_lst.append(record[prod_id]['Name'])\n",
        "    prod_name_lst = set(prod_name_lst)\n",
        "    prod_name_lst = list(prod_name_lst)\n",
        "\n",
        "    print('\\nChoose the product name that you want to update the quantity : ')\n",
        "    for i in range(len(prod_name_lst)):\n",
        "      print(i+1, ':', prod_name_lst[i])\n",
        "\n",
        "    us_name = int(input(\"Enter the appropiate code of product name :- \"))\n",
        "    prod_nm=prod_name_lst[us_name-1]\n",
        "\n",
        "\n",
        "    prod_size_lst=[]\n",
        "\n",
        "    for i in record:\n",
        "      prod_id = i\n",
        "      if record[prod_id]['Name']==prod_nm:\n",
        "        prod_size_lst.append(record[prod_id]['Size'])\n",
        "    prod_size_lst = set(prod_size_lst)\n",
        "    prod_size_lst = list(prod_size_lst)\n",
        "\n",
        "    print('\\nChoose the product size that you want to update the quantity : ')\n",
        "    for i in range(len(prod_size_lst)):\n",
        "      print(i+1, ':', prod_size_lst[i])\n",
        "\n",
        "    us_size = int(input(\"Enter the appropiate code of product size :- \"))\n",
        "    prod_size=prod_size_lst[us_size-1]\n",
        "\n",
        "\n",
        "    for i in record:\n",
        "      prod_id = i\n",
        "      if record[prod_id]['Name'] == prod_nm and record[prod_id]['Size']==prod_size:\n",
        "        print('\\n\\nThe product name is ',prod_nm)\n",
        "        print('The product size is ',prod_size)\n",
        "        new_quan = int(input('The new quantity of this product is '))\n",
        "        record[prod_id]['Quantity'] = new_quan\n",
        "\n",
        "\n",
        "  else :\n",
        "    print('\\nRe-type the correct option')\n",
        "    n=0"
      ],
      "execution_count": null,
      "outputs": [
        {
          "name": "stdout",
          "output_type": "stream",
          "text": [
            "1: Adding new item in inventory \n",
            "2: Updating the quantity of product \n",
            "\n",
            "Choose from Above :- 2\n",
            "\n",
            "\n",
            "\n",
            "Choose the type of product that you want to find the product id : \n",
            "1 : Chocolate\n",
            "2 : Cold Drink\n",
            "3 : Noodles\n",
            "4 : Snacks\n",
            "Enter the appropiate code of product type :- 1\n",
            "\n",
            "Choose the product name that you want to find the product id : \n",
            "1 : 5 Star\n",
            "2 : Happydent\n",
            "3 : Munch\n",
            "4 : Kit-Kat\n",
            "5 : Dairy Milk\n",
            "6 : Cadbury Gems\n",
            "Enter the appropiate code of product name :- 2\n",
            "\n",
            "Choose the product size that you want to find the product id : \n",
            "1 : Small\n",
            "2 : Big\n",
            "Enter the appropiate code of product size :- 1\n",
            "\n",
            "\n",
            "The product name is  Happydent\n",
            "The product size is  Small\n",
            "The new quantity of this product is 200\n"
          ]
        }
      ]
    },
    {
      "cell_type": "markdown",
      "metadata": {
        "id": "m-w3AEqBXGmT"
      },
      "source": [
        "#Updation in the json files \n"
      ]
    },
    {
      "cell_type": "code",
      "metadata": {
        "id": "CDaSWP66TJ_U"
      },
      "source": [
        "Inventory = json.dumps(record)\n",
        "fd = open(\"Inventory.json\",'w')\n",
        "\n",
        "fd.write(Inventory)\n",
        "\n",
        "fd.close()"
      ],
      "execution_count": null,
      "outputs": []
    }
  ]
}